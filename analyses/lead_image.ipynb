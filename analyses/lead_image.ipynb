{
 "cells": [
  {
   "cell_type": "code",
   "execution_count": 1,
   "metadata": {},
   "outputs": [],
   "source": [
    "%load_ext autoreload\n",
    "%autoreload 2"
   ]
  },
  {
   "cell_type": "code",
   "execution_count": 2,
   "metadata": {},
   "outputs": [],
   "source": [
    "import pandas as pd\n",
    "# Local Modules\n",
    "import sys\n",
    "import os.path\n",
    "# sys.path.insert(0, os.path.abspath('/scratch/horta/coronawiki/'))\n",
    "from helpers.vars import codes, helper_langs, interventions_helper, int_c, int_ls\n",
    "from helpers.load import load_interventions, load_aggregated\n",
    "from helpers.plot import plot_intervention, set_size\n",
    "from dateutil.relativedelta import relativedelta\n",
    "import matplotlib.dates as mdates\n",
    "import matplotlib.pyplot as plt"
   ]
  },
  {
   "cell_type": "code",
   "execution_count": 10,
   "metadata": {},
   "outputs": [],
   "source": [
    "# Latex Configuration\n",
    "import matplotlib.font_manager as font_manager\n",
    "from matplotlib.lines import Line2D\n",
    "import matplotlib.ticker as mtick\n",
    "import matplotlib.pyplot as plt\n",
    "import matplotlib as mpl\n",
    "import seaborn as sns\n",
    "import os\n",
    "fontpath = os.path.expanduser('~/LinLibertine_DRah.ttf')\n",
    "prop = font_manager.FontProperties(fname=fontpath)\n",
    "\n",
    "params = {\n",
    "    \"axes.titlesize\" : 14,\n",
    "    'axes.labelsize': 12,\n",
    "    'font.size': 12,\n",
    "    'legend.fontsize': 12,\n",
    "    'xtick.labelsize': 12,\n",
    "    'ytick.labelsize': 12,\n",
    "    'font.family': 'Linux Libertine Display',\n",
    "    'text.usetex': True\n",
    "}\n",
    "\n",
    "mpl.rcParams.update(params)"
   ]
  },
  {
   "cell_type": "code",
   "execution_count": 11,
   "metadata": {},
   "outputs": [
    {
     "name": "stderr",
     "output_type": "stream",
     "text": [
      "/Users/horta/opt/anaconda3/envs/youtube/lib/python3.7/site-packages/IPython/core/interactiveshell.py:3063: DtypeWarning: Columns (4) have mixed types.Specify dtype option on import or set low_memory=False.\n",
      "  interactivity=interactivity, compiler=compiler, result=result)\n"
     ]
    }
   ],
   "source": [
    "agg = load_aggregated(\"../data/aggregated_timeseries.json.gz\")\n",
    "interventions = load_interventions(\"../data/interventions.csv\")\n",
    "df = pd.read_csv('../data/Global_Mobility_Report.csv.gz', compression=\"infer\")\n"
   ]
  },
  {
   "cell_type": "code",
   "execution_count": 12,
   "metadata": {},
   "outputs": [],
   "source": [
    "import datetime\n",
    "import numpy as np\n",
    "baseline = (20200103, 20200206)\n",
    "start_baseline = datetime.datetime.strptime(str(baseline[0]), \"%Y%m%d\")\n",
    "end_baseline = datetime.datetime.strptime(str(baseline[1]), \"%Y%m%d\")"
   ]
  },
  {
   "cell_type": "markdown",
   "metadata": {},
   "source": [
    "## Data Plot #1"
   ]
  },
  {
   "cell_type": "code",
   "execution_count": 13,
   "metadata": {},
   "outputs": [],
   "source": [
    "italy = df[(df[\"country_region\"] == \"Italy\") & (df[\"sub_region_1\"].isna())]\\\n",
    "          .loc[:, [\"date\", \"residential_percent_change_from_baseline\"]].set_index(\"date\")\n",
    "italy.index = pd.to_datetime(italy.index)\n",
    "inter =  agg[\"it\"][\"sum\"].index.intersection(italy.index)\n",
    "italy = italy.reindex(inter)\n",
    "italy = italy[\"residential_percent_change_from_baseline\"].head(45)\n",
    "tmp_it = agg[\"it\"][\"sum\"].reindex(inter).head(45)\n",
    "mask_baseline = (agg[\"it\"][\"sum\"].index <= end_baseline) & (agg[\"it\"][\"sum\"].index >= start_baseline)\n",
    "baseline = agg[\"it\"][\"sum\"][mask_baseline]\n",
    "baseline = pd.DataFrame(baseline, columns=[\"sum\"]).reset_index()\n",
    "baseline[\"dow\"] = baseline[\"index\"].apply(lambda x: x.weekday())\n",
    "dow_baseline = dict(baseline.groupby(\"dow\")[\"sum\"].median())\n",
    "baseline = np.array([dow_baseline[dow] for dow in tmp_it.index.weekday])\n",
    "tmp_it = (tmp_it-baseline)/baseline *100\n"
   ]
  },
  {
   "cell_type": "code",
   "execution_count": 14,
   "metadata": {},
   "outputs": [],
   "source": [
    "sweden = df[(df[\"country_region\"] == \"Sweden\") & (df[\"sub_region_1\"].isna())]\\\n",
    "          .loc[:, [\"date\", \"residential_percent_change_from_baseline\"]].set_index(\"date\")\n",
    "sweden.index = pd.to_datetime(sweden.index)\n",
    "inter =  agg[\"sv\"][\"sum\"].index.intersection(sweden.index)\n",
    "sweden = sweden.reindex(inter)\n",
    "sweden = sweden[\"residential_percent_change_from_baseline\"].head(45)\n",
    "tmp_sv = agg[\"sv\"][\"sum\"].reindex(inter).head(45)\n",
    "mask_baseline = (agg[\"sv\"][\"sum\"].index <= end_baseline) & (agg[\"it\"][\"sum\"].index >= start_baseline)\n",
    "baseline = agg[\"sv\"][\"sum\"][mask_baseline]\n",
    "baseline = pd.DataFrame(baseline, columns=[\"sum\"]).reset_index()\n",
    "baseline[\"dow\"] = baseline[\"index\"].apply(lambda x: x.weekday())\n",
    "dow_baseline = dict(baseline.groupby(\"dow\")[\"sum\"].median())\n",
    "baseline = np.array([dow_baseline[dow] for dow in tmp_it.index.weekday])\n",
    "tmp_sv = (tmp_sv-baseline)/baseline *100\n"
   ]
  },
  {
   "cell_type": "markdown",
   "metadata": {},
   "source": [
    "## Data Plot #2"
   ]
  },
  {
   "cell_type": "code",
   "execution_count": 15,
   "metadata": {},
   "outputs": [],
   "source": [
    "correspond = [\n",
    "    (\"it\", \"Italy\"),\n",
    "    (\"sv\", \"Sweden\"),\n",
    "    (\"no\", \"Norway\"),\n",
    "    (\"da\", \"Denmark\"),\n",
    "    (\"fr\", \"France\"),\n",
    "    (\"de\", \"Germany\"),\n",
    "    (\"nl\", \"Netherlands\"),\n",
    "    (\"sr\", \"Serbia\"),\n",
    "    (\"fr\", \"France\"),\n",
    "    (\"ko\", \"South Korea\"),\n",
    "    (\"ja\", \"Japan\"),\n",
    "    (\"fi\", \"Finland\")\n",
    "]\n",
    "\n",
    "import datetime\n",
    "import numpy as np\n",
    "baseline = (20200103, 20200206)\n",
    "start_baseline = datetime.datetime.strptime(str(baseline[0]), \"%Y%m%d\")\n",
    "end_baseline = datetime.datetime.strptime(str(baseline[1]), \"%Y%m%d\")\n",
    "\n",
    "dfs = []\n",
    "\n",
    "for agg_code, country_code in correspond:\n",
    "    tmp = df[(df[\"country_region\"] == country_code) & (df[\"sub_region_1\"].isna()) &\n",
    "            (df[\"metro_area\"].isna())]\\\n",
    "          .loc[:, [\"date\", \"residential_percent_change_from_baseline\"]].set_index(\"date\")\n",
    "    \n",
    "    tmp.index = pd.to_datetime(tmp.index)\n",
    "    inter =  agg[agg_code][\"sum\"].index.intersection(tmp.index)\n",
    "    \n",
    "    tmp = tmp.reindex(inter)\n",
    "    tmp = tmp[\"residential_percent_change_from_baseline\"]\n",
    "\n",
    "    tmp_agg = agg[agg_code][\"sum\"].reindex(inter) + agg[agg_code + \".m\"][\"sum\"].reindex(inter)\n",
    "    mask_baseline = (agg[agg_code][\"sum\"].index <= end_baseline) &\\\n",
    "                    (agg[agg_code][\"sum\"].index >= start_baseline)\n",
    "    baseline = agg[agg_code][\"sum\"][mask_baseline] + agg[agg_code + \".m\"][\"sum\"][mask_baseline] \n",
    "    baseline = pd.DataFrame(baseline, columns=[\"sum\"]).reset_index()\n",
    "    baseline[\"dow\"] = baseline[\"index\"].apply(lambda x: x.weekday())\n",
    "    dow_baseline = dict(baseline.groupby(\"dow\")[\"sum\"].median())\n",
    "    baseline = np.array([dow_baseline[dow] for dow in tmp.index.weekday])\n",
    "    tmp_agg = (tmp_agg-baseline)/baseline * 100\n",
    "    \n",
    "    \n",
    "    mobility = interventions[agg_code][\"Mobility\"]\n",
    "    pre = [mobility - relativedelta(days=28), mobility]\n",
    "    pos = [mobility, mobility + relativedelta(days=28)]\n",
    "\n",
    "    mask_pre = (tmp.index >= pre[0]) & (tmp.index < pre[1])\n",
    "    mask_pos = (tmp_agg.index >= pos[0]) & (tmp_agg.index < pos[1])\n",
    "\n",
    "    dfs.append({\n",
    "        \"lang\": agg_code,\n",
    "        \"mobility_pre\": tmp[mask_pre].mean(),\n",
    "        \"mobility_pos\": tmp[mask_pos].mean(),\n",
    "        \"pageview_pre\": tmp_agg[mask_pre].mean(),\n",
    "        \"pageview_pos\": tmp_agg[mask_pos].mean()\n",
    "    })\n",
    "        \n",
    "\n",
    "df_results = pd.DataFrame(dfs)"
   ]
  },
  {
   "cell_type": "markdown",
   "metadata": {},
   "source": [
    "## Image"
   ]
  },
  {
   "cell_type": "code",
   "execution_count": 16,
   "metadata": {},
   "outputs": [
    {
     "data": {
      "image/png": "[encoded data removed]",
      "text/plain": [
       "<Figure size 566.094x348.141 with 3 Axes>"
      ]
     },
     "metadata": {
      "needs_background": "light"
     },
     "output_type": "display_data"
    }
   ],
   "source": [
    "fig = plt.figure(constrained_layout=False, figsize=(7,5))\n",
    "gs = fig.add_gridspec(2, 2, hspace=0.3)\n",
    "ax1 = fig.add_subplot(gs[0, 0])\n",
    "ax2 = fig.add_subplot(gs[0, 1])\n",
    "ax3 = fig.add_subplot(gs[1, :])\n",
    "\n",
    "ax =  ax2\n",
    "ax.plot(italy.index , italy.values, color=\"#e41a1c\", zorder=9)\n",
    "ax.plot(tmp_it.index, tmp_it.values, color=\"#377eb8\", ls=\"-.\", zorder=10)\n",
    "ax.set_title(\"Italian\")\n",
    "\n",
    "ax = ax1\n",
    "ax.plot(sweden.index , sweden.values, color=\"#e41a1c\", zorder=9)\n",
    "ax.plot(tmp_sv.index, tmp_sv.values, color=\"#377eb8\", ls=\"-.\", zorder=10)\n",
    "ax.set_title(\"Swedish\")\n",
    "\n",
    "months_fmt = mdates.DateFormatter('%d\\n%B')\n",
    "day_fmt = mdates.DateFormatter('%d')\n",
    "for ax in [ax1, ax2] :\n",
    "    ax.xaxis.set_major_formatter(months_fmt)\n",
    "    ax.xaxis.set_major_locator(mdates.WeekdayLocator(interval=3))\n",
    "    ax.xaxis.set_minor_locator(mdates.WeekdayLocator(interval=1))\n",
    "    ax.xaxis.set_minor_formatter(day_fmt)\n",
    "\n",
    "    ax.set_ylim([-25, 75])\n",
    "    ax.set_yticks([0, 30, 60])\n",
    "    ax.set_yticklabels(['0\\%', '30\\%', '60\\%'])\n",
    "    ax.grid(ls=\":\")\n",
    "\n",
    "set_size(fig, (7, 6))\n",
    "\n",
    "ax = ax3\n",
    "idx = 0\n",
    "\n",
    "adjust = {\n",
    "    \"sr\": (-1, -3.5),\n",
    "    \"ko\": (0.2, 0),\n",
    "    \"fi\": (-0.5, 1),\n",
    "    \"it\": (-1, 1.2),\n",
    "    \"de\": (-1.5, 1.5),\n",
    "    \"fr\": (-1, 1),\n",
    "    \"da\": (-0.5, 1),\n",
    "    \"nl\": (0.3, 0),\n",
    "    \"sv\": (0.5, 0),\n",
    "    \"no\": (0.4, -0.8),\n",
    "    \"ja\": (-0.7, 1.2),\n",
    "}\n",
    "\n",
    "for code in codes:\n",
    "    if code == \"en\":\n",
    "        continue\n",
    "    df_ = df_results[df_results.lang == code]\n",
    "    vals = df_.values[0]\n",
    "    \n",
    "    ax.scatter([(vals[2] - vals[1])], \n",
    "               [(vals[4] - vals[3])], \n",
    "               alpha=1, marker=\".\", color=\"black\")\n",
    "    ax.text((vals[2] - vals[1]) + adjust[code][0], \n",
    "            (vals[4] - vals[3]) + adjust[code][1],\n",
    "            helper_langs[vals[0]], size=11, transform=ax.transData)\n",
    "\n",
    "ax.set_yticks([0, 10, 20, 30, 40])\n",
    "ax.set_yticklabels([\"0\\%\", \"10\\%\", \"20\\%\", \"30\\%\", \"40\\%\"], color=\"#377eb8\")\n",
    "ax.set_ylim([0, 44])\n",
    "\n",
    "\n",
    "ax.set_xticks([0, 7, 14, 21, 28])\n",
    "ax.set_xticklabels([\"0\\%\", \"7\\%\", \"14\\%\", \"21\\%\", \"28\\%\"], color=\"#e41a1c\")\n",
    "ax.set_xlim([0, 30.8])\n",
    "ax.grid(ls=\":\")\n",
    "\n",
    "ax.set_xlabel(\"$\\Delta$ Time at Home\", color=\"#e41a1c\")\n",
    "ax.set_ylabel(\"$\\Delta$ Wikipedia Pageviews\", color=\"#377eb8\")\n",
    "\n",
    "\n",
    "lines = [\n",
    "    Line2D([0], [0], color=\"#e41a1c\", lw=1.5, ls=\"-\"),\n",
    "    Line2D([0], [0], color=\"#377eb8\", lw=1.5, ls=\"-.\"),\n",
    "    Line2D([0], [0], color=\"#000000\", lw=1.5, ls=\":\")\n",
    "\n",
    "]\n",
    "\n",
    "ax3.legend(\n",
    "    handles=lines,\n",
    "    labels=[\"Time at Home\", \"Wikipedia Pageviews\", \"Mobility Changepoint\"],\n",
    "    loc='upper center', bbox_to_anchor=(0.5, 2.8),\n",
    "    ncol=3, fancybox=False, shadow=False,\n",
    "    frameon=False, edgecolor=None, fontsize=12\n",
    ")\n",
    "\n",
    "\n",
    "ax1.axvline(interventions[\"sv\"][\"Mobility\"], ls=\":\", color=\"black\", zorder=1)\n",
    "ax2.axvline(interventions[\"it\"][\"Mobility\"], ls=\":\", color=\"black\", zorder=1)\n",
    "\n",
    "\n",
    "set_size(fig, (7, 5))\n",
    "fig.savefig(\"../images/teaser.pdf\", bbox_inches=\"tight\")"
   ]
  },
  {
   "cell_type": "markdown",
   "metadata": {},
   "source": [
    "---"
   ]
  }
 ],
 "metadata": {
  "kernelspec": {
   "display_name": "youtube",
   "language": "python",
   "name": "youtube"
  },
  "language_info": {
   "codemirror_mode": {
    "name": "ipython",
    "version": 3
   },
   "file_extension": ".py",
   "mimetype": "text/x-python",
   "name": "python",
   "nbconvert_exporter": "python",
   "pygments_lexer": "ipython3",
   "version": "3.7.6"
  }
 },
 "nbformat": 4,
 "nbformat_minor": 4
}
