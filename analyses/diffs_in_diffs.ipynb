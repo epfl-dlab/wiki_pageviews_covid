{
 "cells": [
  {
   "cell_type": "code",
   "execution_count": 1,
   "metadata": {
    "pycharm": {
     "name": "#%%\n"
    }
   },
   "outputs": [],
   "source": [
    "%load_ext autoreload\n",
    "%autoreload 2"
   ]
  },
  {
   "cell_type": "code",
   "execution_count": 2,
   "metadata": {
    "pycharm": {
     "name": "#%%\n"
    }
   },
   "outputs": [],
   "source": [
    "from dateutil.relativedelta import relativedelta\n",
    "import statsmodels.formula.api as smf\n",
    "import pandas as pd\n",
    "import numpy as np\n",
    "import statsmodels\n",
    "import datetime"
   ]
  },
  {
   "cell_type": "code",
   "execution_count": 3,
   "metadata": {
    "pycharm": {
     "name": "#%%\n"
    }
   },
   "outputs": [],
   "source": [
    "import sys\n",
    "import os.path\n",
    "# Local Modules\n",
    "from helpers.load import load_interventions, load_aggregated, load_topics, load_pca\n",
    "from helpers.vars import codes, helper_langs\n",
    "from helpers.plot import set_size, plot_diffs_in_diffs_interventions, plot_diffs_in_diffs_all\n",
    "from helpers.diffs_n_diffs import get_diffs_in_diffs_result, get_df_pageviews, get_df_pca\n",
    "from helpers.diffs_n_diffs import interventions_df_pca, interventions_df_pageviews\n",
    "\n",
    "                "
   ]
  },
  {
   "cell_type": "code",
   "execution_count": 4,
   "metadata": {
    "pycharm": {
     "name": "#%%\n"
    }
   },
   "outputs": [],
   "source": [
    "# Latex Configuration\n",
    "import matplotlib.font_manager as font_manager\n",
    "from matplotlib.lines import Line2D\n",
    "import matplotlib.ticker as mtick\n",
    "import matplotlib.pyplot as plt\n",
    "import matplotlib as mpl\n",
    "import seaborn as sns\n",
    "import os\n",
    "# fontpath = os.path.expanduser('~/.local/share/fonts/LinLibertine_DRah.ttf')\n",
    "# prop = font_manager.FontProperties(fname=fontpath)\n",
    "\n",
    "params = {\n",
    "    \"axes.titlesize\" : 14,\n",
    "    'axes.labelsize': 12,\n",
    "    'font.size': 12,\n",
    "    'legend.fontsize': 12,\n",
    "    'xtick.labelsize': 13,\n",
    "    'ytick.labelsize': 12,\n",
    "#     'font.family': 'Linux Libertine Display',\n",
    "    'text.usetex': True\n",
    "}\n",
    "\n",
    "mpl.rcParams.update(params)"
   ]
  },
  {
   "cell_type": "markdown",
   "metadata": {
    "pycharm": {
     "name": "#%% md\n"
    }
   },
   "source": [
    "## Loads data & helpers "
   ]
  },
  {
   "cell_type": "code",
   "execution_count": 5,
   "metadata": {
    "pycharm": {
     "name": "#%%\n"
    }
   },
   "outputs": [],
   "source": [
    "time_int = 35\n",
    "interventions = load_interventions(\"../data/interventions.csv\")\n",
    "topics_df, topics = load_topics('../data/topics_linked.csv.xz')\n",
    "agg = load_aggregated(\"../data/aggregated_timeseries.json.gz\")\n",
    "codes_order = [\"sr\", \"it\", \"fr\", \"en\", \"nl\", \"ko\", \"de\", \"fi\", \"ja\", \"no\", \"sv\", \"da\"]\n",
    "dfs_pca_shift = load_pca(codes_order, pca_folder=\"../data/pca/\")\n",
    "np.random.seed(17835415)"
   ]
  },
  {
   "cell_type": "markdown",
   "metadata": {
    "pycharm": {
     "name": "#%% md\n"
    }
   },
   "source": [
    "## Pageviews"
   ]
  },
  {
   "cell_type": "code",
   "execution_count": 6,
   "metadata": {
    "pycharm": {
     "name": "#%%\n"
    }
   },
   "outputs": [
    {
     "name": "stdout",
     "output_type": "stream",
     "text": [
      "[Timestamp('2020-02-10 00:00:00'), Timestamp('2020-03-16 00:00:00')]\n",
      "[Timestamp('2020-03-16 00:00:00'), Timestamp('2020-04-20 00:00:00')]\n",
      "R2: 0.9970142626921447\n",
      "[Timestamp('2020-03-16 00:00:00'), Timestamp('2020-04-20 00:00:00')]\n",
      "[Timestamp('2020-05-21 00:00:00'), Timestamp('2020-06-25 00:00:00')]\n",
      "R2: 0.9965137385179754\n",
      "[Timestamp('2020-02-10 00:00:00'), Timestamp('2020-03-16 00:00:00')]\n",
      "[Timestamp('2020-05-21 00:00:00'), Timestamp('2020-06-25 00:00:00')]\n",
      "R2: 0.9973573188009914\n"
     ]
    }
   ],
   "source": [
    "mobility = lambda x, delta: interventions[x.replace(\".m\", \"\")][\"Mobility\"] + delta\n",
    "normalcy = lambda x, delta: interventions[x.replace(\".m\", \"\")][\"Normalcy\"] + delta\n",
    "\n",
    "df_pageviews, df_pageviews_results = get_df_pageviews(agg, codes,\n",
    "                                                      mobility, relativedelta(days=0),\n",
    "                                                      mobility, relativedelta(days=0),\n",
    "                                                      time_int)\n",
    "\n",
    "df_pageviews_norm, df_pageviews_norm_results = get_df_pageviews(agg, codes,\n",
    "                                                                mobility, relativedelta(days=time_int), \n",
    "                                                                normalcy, relativedelta(days=0), \n",
    "                                                                time_int)\n",
    "\n",
    "df_pageviews_norm2, df_pageviews_norm_results2 = get_df_pageviews(agg, codes,\n",
    "                                                            mobility, relativedelta(days=0),\n",
    "                                                            normalcy, relativedelta(days=0),\n",
    "                                                            time_int)"
   ]
  },
  {
   "cell_type": "code",
   "execution_count": 7,
   "metadata": {},
   "outputs": [
    {
     "data": {
      "text/html": [
       "<div>\n",
       "<style scoped>\n",
       "    .dataframe tbody tr th:only-of-type {\n",
       "        vertical-align: middle;\n",
       "    }\n",
       "\n",
       "    .dataframe tbody tr th {\n",
       "        vertical-align: top;\n",
       "    }\n",
       "\n",
       "    .dataframe thead th {\n",
       "        text-align: right;\n",
       "    }\n",
       "</style>\n",
       "<table border=\"1\" class=\"dataframe\">\n",
       "  <thead>\n",
       "    <tr style=\"text-align: right;\">\n",
       "      <th></th>\n",
       "      <th>lang</th>\n",
       "      <th>low</th>\n",
       "      <th>high</th>\n",
       "      <th>val</th>\n",
       "      <th>pval</th>\n",
       "      <th>std</th>\n",
       "    </tr>\n",
       "  </thead>\n",
       "  <tbody>\n",
       "    <tr>\n",
       "      <th>0</th>\n",
       "      <td>de</td>\n",
       "      <td>-0.236243</td>\n",
       "      <td>-0.108960</td>\n",
       "      <td>-0.172601</td>\n",
       "      <td>True</td>\n",
       "      <td>0.031821</td>\n",
       "    </tr>\n",
       "    <tr>\n",
       "      <th>1</th>\n",
       "      <td>fr</td>\n",
       "      <td>-0.292948</td>\n",
       "      <td>-0.191481</td>\n",
       "      <td>-0.242215</td>\n",
       "      <td>True</td>\n",
       "      <td>0.025367</td>\n",
       "    </tr>\n",
       "    <tr>\n",
       "      <th>2</th>\n",
       "      <td>it</td>\n",
       "      <td>-0.479840</td>\n",
       "      <td>-0.384339</td>\n",
       "      <td>-0.432089</td>\n",
       "      <td>True</td>\n",
       "      <td>0.023875</td>\n",
       "    </tr>\n",
       "    <tr>\n",
       "      <th>3</th>\n",
       "      <td>sr</td>\n",
       "      <td>-0.215927</td>\n",
       "      <td>-0.022552</td>\n",
       "      <td>-0.119240</td>\n",
       "      <td>True</td>\n",
       "      <td>0.048344</td>\n",
       "    </tr>\n",
       "    <tr>\n",
       "      <th>4</th>\n",
       "      <td>no</td>\n",
       "      <td>-0.341618</td>\n",
       "      <td>-0.145129</td>\n",
       "      <td>-0.243374</td>\n",
       "      <td>True</td>\n",
       "      <td>0.049122</td>\n",
       "    </tr>\n",
       "    <tr>\n",
       "      <th>5</th>\n",
       "      <td>ko</td>\n",
       "      <td>-0.156269</td>\n",
       "      <td>0.003777</td>\n",
       "      <td>-0.076246</td>\n",
       "      <td>False</td>\n",
       "      <td>0.040012</td>\n",
       "    </tr>\n",
       "    <tr>\n",
       "      <th>6</th>\n",
       "      <td>da</td>\n",
       "      <td>-0.236643</td>\n",
       "      <td>-0.079979</td>\n",
       "      <td>-0.158311</td>\n",
       "      <td>True</td>\n",
       "      <td>0.039166</td>\n",
       "    </tr>\n",
       "    <tr>\n",
       "      <th>7</th>\n",
       "      <td>sv</td>\n",
       "      <td>-0.101103</td>\n",
       "      <td>0.033922</td>\n",
       "      <td>-0.033591</td>\n",
       "      <td>False</td>\n",
       "      <td>0.033756</td>\n",
       "    </tr>\n",
       "    <tr>\n",
       "      <th>8</th>\n",
       "      <td>ja</td>\n",
       "      <td>-0.138415</td>\n",
       "      <td>-0.029690</td>\n",
       "      <td>-0.084052</td>\n",
       "      <td>True</td>\n",
       "      <td>0.027181</td>\n",
       "    </tr>\n",
       "    <tr>\n",
       "      <th>9</th>\n",
       "      <td>nl</td>\n",
       "      <td>-0.207167</td>\n",
       "      <td>-0.077200</td>\n",
       "      <td>-0.142184</td>\n",
       "      <td>True</td>\n",
       "      <td>0.032492</td>\n",
       "    </tr>\n",
       "    <tr>\n",
       "      <th>10</th>\n",
       "      <td>fi</td>\n",
       "      <td>-0.206512</td>\n",
       "      <td>-0.082631</td>\n",
       "      <td>-0.144572</td>\n",
       "      <td>True</td>\n",
       "      <td>0.030970</td>\n",
       "    </tr>\n",
       "    <tr>\n",
       "      <th>11</th>\n",
       "      <td>en</td>\n",
       "      <td>-0.197844</td>\n",
       "      <td>-0.121205</td>\n",
       "      <td>-0.159525</td>\n",
       "      <td>True</td>\n",
       "      <td>0.019160</td>\n",
       "    </tr>\n",
       "  </tbody>\n",
       "</table>\n",
       "</div>"
      ],
      "text/plain": [
       "   lang       low      high       val   pval       std\n",
       "0    de -0.236243 -0.108960 -0.172601   True  0.031821\n",
       "1    fr -0.292948 -0.191481 -0.242215   True  0.025367\n",
       "2    it -0.479840 -0.384339 -0.432089   True  0.023875\n",
       "3    sr -0.215927 -0.022552 -0.119240   True  0.048344\n",
       "4    no -0.341618 -0.145129 -0.243374   True  0.049122\n",
       "5    ko -0.156269  0.003777 -0.076246  False  0.040012\n",
       "6    da -0.236643 -0.079979 -0.158311   True  0.039166\n",
       "7    sv -0.101103  0.033922 -0.033591  False  0.033756\n",
       "8    ja -0.138415 -0.029690 -0.084052   True  0.027181\n",
       "9    nl -0.207167 -0.077200 -0.142184   True  0.032492\n",
       "10   fi -0.206512 -0.082631 -0.144572   True  0.030970\n",
       "11   en -0.197844 -0.121205 -0.159525   True  0.019160"
      ]
     },
     "execution_count": 7,
     "metadata": {},
     "output_type": "execute_result"
    }
   ],
   "source": [
    "df_pageviews_norm_results"
   ]
  },
  {
   "cell_type": "code",
   "execution_count": 8,
   "metadata": {},
   "outputs": [
    {
     "data": {
      "text/html": [
       "<div>\n",
       "<style scoped>\n",
       "    .dataframe tbody tr th:only-of-type {\n",
       "        vertical-align: middle;\n",
       "    }\n",
       "\n",
       "    .dataframe tbody tr th {\n",
       "        vertical-align: top;\n",
       "    }\n",
       "\n",
       "    .dataframe thead th {\n",
       "        text-align: right;\n",
       "    }\n",
       "</style>\n",
       "<table border=\"1\" class=\"dataframe\">\n",
       "  <thead>\n",
       "    <tr style=\"text-align: right;\">\n",
       "      <th></th>\n",
       "      <th>lang</th>\n",
       "      <th>low</th>\n",
       "      <th>high</th>\n",
       "      <th>val</th>\n",
       "      <th>pval</th>\n",
       "      <th>std</th>\n",
       "    </tr>\n",
       "  </thead>\n",
       "  <tbody>\n",
       "    <tr>\n",
       "      <th>0</th>\n",
       "      <td>de</td>\n",
       "      <td>-0.059473</td>\n",
       "      <td>0.053040</td>\n",
       "      <td>-0.003216</td>\n",
       "      <td>False</td>\n",
       "      <td>0.028128</td>\n",
       "    </tr>\n",
       "    <tr>\n",
       "      <th>1</th>\n",
       "      <td>fr</td>\n",
       "      <td>-0.066686</td>\n",
       "      <td>0.015621</td>\n",
       "      <td>-0.025532</td>\n",
       "      <td>False</td>\n",
       "      <td>0.020577</td>\n",
       "    </tr>\n",
       "    <tr>\n",
       "      <th>2</th>\n",
       "      <td>it</td>\n",
       "      <td>-0.086260</td>\n",
       "      <td>0.000762</td>\n",
       "      <td>-0.042749</td>\n",
       "      <td>False</td>\n",
       "      <td>0.021756</td>\n",
       "    </tr>\n",
       "    <tr>\n",
       "      <th>3</th>\n",
       "      <td>sr</td>\n",
       "      <td>0.166257</td>\n",
       "      <td>0.344943</td>\n",
       "      <td>0.255600</td>\n",
       "      <td>True</td>\n",
       "      <td>0.044672</td>\n",
       "    </tr>\n",
       "    <tr>\n",
       "      <th>4</th>\n",
       "      <td>no</td>\n",
       "      <td>-0.196329</td>\n",
       "      <td>-0.029499</td>\n",
       "      <td>-0.112914</td>\n",
       "      <td>True</td>\n",
       "      <td>0.041707</td>\n",
       "    </tr>\n",
       "    <tr>\n",
       "      <th>5</th>\n",
       "      <td>ko</td>\n",
       "      <td>-0.051621</td>\n",
       "      <td>0.098001</td>\n",
       "      <td>0.023190</td>\n",
       "      <td>False</td>\n",
       "      <td>0.037406</td>\n",
       "    </tr>\n",
       "    <tr>\n",
       "      <th>6</th>\n",
       "      <td>da</td>\n",
       "      <td>-0.169917</td>\n",
       "      <td>-0.025643</td>\n",
       "      <td>-0.097780</td>\n",
       "      <td>True</td>\n",
       "      <td>0.036069</td>\n",
       "    </tr>\n",
       "    <tr>\n",
       "      <th>7</th>\n",
       "      <td>sv</td>\n",
       "      <td>-0.007628</td>\n",
       "      <td>0.099371</td>\n",
       "      <td>0.045872</td>\n",
       "      <td>False</td>\n",
       "      <td>0.026750</td>\n",
       "    </tr>\n",
       "    <tr>\n",
       "      <th>8</th>\n",
       "      <td>ja</td>\n",
       "      <td>-0.015257</td>\n",
       "      <td>0.062963</td>\n",
       "      <td>0.023853</td>\n",
       "      <td>False</td>\n",
       "      <td>0.019555</td>\n",
       "    </tr>\n",
       "    <tr>\n",
       "      <th>9</th>\n",
       "      <td>nl</td>\n",
       "      <td>-0.037994</td>\n",
       "      <td>0.073368</td>\n",
       "      <td>0.017687</td>\n",
       "      <td>False</td>\n",
       "      <td>0.027840</td>\n",
       "    </tr>\n",
       "    <tr>\n",
       "      <th>10</th>\n",
       "      <td>fi</td>\n",
       "      <td>-0.040943</td>\n",
       "      <td>0.065563</td>\n",
       "      <td>0.012310</td>\n",
       "      <td>False</td>\n",
       "      <td>0.026626</td>\n",
       "    </tr>\n",
       "    <tr>\n",
       "      <th>11</th>\n",
       "      <td>en</td>\n",
       "      <td>-0.021085</td>\n",
       "      <td>0.036912</td>\n",
       "      <td>0.007913</td>\n",
       "      <td>False</td>\n",
       "      <td>0.014499</td>\n",
       "    </tr>\n",
       "  </tbody>\n",
       "</table>\n",
       "</div>"
      ],
      "text/plain": [
       "   lang       low      high       val   pval       std\n",
       "0    de -0.059473  0.053040 -0.003216  False  0.028128\n",
       "1    fr -0.066686  0.015621 -0.025532  False  0.020577\n",
       "2    it -0.086260  0.000762 -0.042749  False  0.021756\n",
       "3    sr  0.166257  0.344943  0.255600   True  0.044672\n",
       "4    no -0.196329 -0.029499 -0.112914   True  0.041707\n",
       "5    ko -0.051621  0.098001  0.023190  False  0.037406\n",
       "6    da -0.169917 -0.025643 -0.097780   True  0.036069\n",
       "7    sv -0.007628  0.099371  0.045872  False  0.026750\n",
       "8    ja -0.015257  0.062963  0.023853  False  0.019555\n",
       "9    nl -0.037994  0.073368  0.017687  False  0.027840\n",
       "10   fi -0.040943  0.065563  0.012310  False  0.026626\n",
       "11   en -0.021085  0.036912  0.007913  False  0.014499"
      ]
     },
     "execution_count": 8,
     "metadata": {},
     "output_type": "execute_result"
    }
   ],
   "source": [
    "df_pageviews_norm_results2"
   ]
  },
  {
   "cell_type": "markdown",
   "metadata": {
    "pycharm": {
     "name": "#%% md\n"
    }
   },
   "source": [
    "## Attention Shift"
   ]
  },
  {
   "cell_type": "code",
   "execution_count": 9,
   "metadata": {
    "pycharm": {
     "name": "#%%\n"
    }
   },
   "outputs": [
    {
     "name": "stdout",
     "output_type": "stream",
     "text": [
      "de 2020-03-16 00:00:00\n",
      "fr 2020-03-16 00:00:00\n",
      "it 2020-03-11 00:00:00\n",
      "sr 2020-03-16 00:00:00\n",
      "no 2020-03-11 00:00:00\n",
      "ko 2020-02-25 00:00:00\n",
      "da 2020-03-11 00:00:00\n",
      "sv 2020-03-11 00:00:00\n",
      "ja 2020-03-31 00:00:00\n",
      "nl 2020-03-16 00:00:00\n",
      "fi 2020-03-16 00:00:00\n",
      "en 2020-03-16 00:00:00\n",
      "R2: 0.9387647308366688\n",
      "de 2020-03-16 00:00:00\n",
      "fr 2020-03-16 00:00:00\n",
      "it 2020-03-11 00:00:00\n",
      "sr 2020-03-16 00:00:00\n",
      "no 2020-03-11 00:00:00\n",
      "ko 2020-02-25 00:00:00\n",
      "da 2020-03-11 00:00:00\n",
      "sv 2020-03-11 00:00:00\n",
      "ja 2020-03-31 00:00:00\n",
      "nl 2020-03-16 00:00:00\n",
      "fi 2020-03-16 00:00:00\n",
      "en 2020-03-16 00:00:00\n",
      "R2: 0.932016419784808\n",
      "de 2020-03-16 00:00:00\n",
      "fr 2020-03-16 00:00:00\n",
      "it 2020-03-11 00:00:00\n",
      "sr 2020-03-16 00:00:00\n",
      "no 2020-03-11 00:00:00\n",
      "ko 2020-02-25 00:00:00\n",
      "da 2020-03-11 00:00:00\n",
      "sv 2020-03-11 00:00:00\n",
      "ja 2020-03-31 00:00:00\n",
      "nl 2020-03-16 00:00:00\n",
      "fi 2020-03-16 00:00:00\n",
      "en 2020-03-16 00:00:00\n",
      "R2: 0.9448196600426549\n"
     ]
    }
   ],
   "source": [
    "df_pca, df_pca_results = get_df_pca(dfs_pca_shift, codes, interventions,\n",
    "    mobility, relativedelta(days=0),\n",
    "    mobility, relativedelta(days=0),\n",
    "    time_int)\n",
    "\n",
    "df_pca_norm, df_pca_norm_results = get_df_pca(dfs_pca_shift, codes, interventions,\n",
    "    mobility, relativedelta(days=time_int), \n",
    "    normalcy, relativedelta(days=0), \n",
    "    time_int)\n",
    "\n",
    "\n",
    "df_pca_norm2, df_pca_norm_results2 = get_df_pca(dfs_pca_shift, codes, interventions,\n",
    "    mobility, relativedelta(days=0),\n",
    "    normalcy, relativedelta(days=0),\n",
    "    time_int)"
   ]
  },
  {
   "cell_type": "markdown",
   "metadata": {
    "pycharm": {
     "name": "#%% md\n"
    }
   },
   "source": [
    "## Impact of different interventions"
   ]
  },
  {
   "cell_type": "code",
   "execution_count": 10,
   "metadata": {},
   "outputs": [
    {
     "name": "stdout",
     "output_type": "stream",
     "text": [
      "1st case\n",
      "1st death\n",
      "School closure\n",
      "Public events banned\n",
      "Lockdown\n",
      "Mobility\n",
      "Normalcy\n"
     ]
    }
   ],
   "source": [
    "df_interv_pca_results = interventions_df_pca(dfs_pca_shift, codes, interventions, time_int)\n",
    "df_interv_pv_results = interventions_df_pageviews(agg, codes, interventions, time_int)"
   ]
  },
  {
   "cell_type": "code",
   "execution_count": 11,
   "metadata": {},
   "outputs": [
    {
     "data": {
      "text/html": [
       "<div>\n",
       "<style scoped>\n",
       "    .dataframe tbody tr th:only-of-type {\n",
       "        vertical-align: middle;\n",
       "    }\n",
       "\n",
       "    .dataframe tbody tr th {\n",
       "        vertical-align: top;\n",
       "    }\n",
       "\n",
       "    .dataframe thead th {\n",
       "        text-align: right;\n",
       "    }\n",
       "</style>\n",
       "<table border=\"1\" class=\"dataframe\">\n",
       "  <thead>\n",
       "    <tr style=\"text-align: right;\">\n",
       "      <th></th>\n",
       "      <th>intervention</th>\n",
       "      <th>low</th>\n",
       "      <th>high</th>\n",
       "      <th>val</th>\n",
       "      <th>pval</th>\n",
       "      <th>res</th>\n",
       "    </tr>\n",
       "  </thead>\n",
       "  <tbody>\n",
       "    <tr>\n",
       "      <th>0</th>\n",
       "      <td>1st case</td>\n",
       "      <td>-0.002571</td>\n",
       "      <td>0.037933</td>\n",
       "      <td>0.017681</td>\n",
       "      <td>8.700353e-02</td>\n",
       "      <td>0.994670</td>\n",
       "    </tr>\n",
       "    <tr>\n",
       "      <th>1</th>\n",
       "      <td>1st death</td>\n",
       "      <td>0.075819</td>\n",
       "      <td>0.120896</td>\n",
       "      <td>0.098357</td>\n",
       "      <td>2.722200e-17</td>\n",
       "      <td>0.993269</td>\n",
       "    </tr>\n",
       "    <tr>\n",
       "      <th>2</th>\n",
       "      <td>School closure</td>\n",
       "      <td>0.136986</td>\n",
       "      <td>0.181187</td>\n",
       "      <td>0.159086</td>\n",
       "      <td>1.279173e-42</td>\n",
       "      <td>0.993555</td>\n",
       "    </tr>\n",
       "    <tr>\n",
       "      <th>3</th>\n",
       "      <td>Public events banned</td>\n",
       "      <td>0.169071</td>\n",
       "      <td>0.215947</td>\n",
       "      <td>0.192509</td>\n",
       "      <td>1.216713e-53</td>\n",
       "      <td>0.993812</td>\n",
       "    </tr>\n",
       "    <tr>\n",
       "      <th>4</th>\n",
       "      <td>Lockdown</td>\n",
       "      <td>0.238520</td>\n",
       "      <td>0.300169</td>\n",
       "      <td>0.269344</td>\n",
       "      <td>1.262094e-56</td>\n",
       "      <td>0.994942</td>\n",
       "    </tr>\n",
       "    <tr>\n",
       "      <th>5</th>\n",
       "      <td>Mobility</td>\n",
       "      <td>0.155552</td>\n",
       "      <td>0.196658</td>\n",
       "      <td>0.176105</td>\n",
       "      <td>1.223335e-58</td>\n",
       "      <td>0.996090</td>\n",
       "    </tr>\n",
       "    <tr>\n",
       "      <th>6</th>\n",
       "      <td>Normalcy</td>\n",
       "      <td>-0.138418</td>\n",
       "      <td>-0.090262</td>\n",
       "      <td>-0.114340</td>\n",
       "      <td>3.854482e-20</td>\n",
       "      <td>0.994804</td>\n",
       "    </tr>\n",
       "  </tbody>\n",
       "</table>\n",
       "</div>"
      ],
      "text/plain": [
       "           intervention       low      high       val          pval       res\n",
       "0              1st case -0.002571  0.037933  0.017681  8.700353e-02  0.994670\n",
       "1             1st death  0.075819  0.120896  0.098357  2.722200e-17  0.993269\n",
       "2        School closure  0.136986  0.181187  0.159086  1.279173e-42  0.993555\n",
       "3  Public events banned  0.169071  0.215947  0.192509  1.216713e-53  0.993812\n",
       "4              Lockdown  0.238520  0.300169  0.269344  1.262094e-56  0.994942\n",
       "5              Mobility  0.155552  0.196658  0.176105  1.223335e-58  0.996090\n",
       "6              Normalcy -0.138418 -0.090262 -0.114340  3.854482e-20  0.994804"
      ]
     },
     "execution_count": 11,
     "metadata": {},
     "output_type": "execute_result"
    }
   ],
   "source": [
    "df_interv_pv_results"
   ]
  },
  {
   "cell_type": "markdown",
   "metadata": {
    "pycharm": {
     "name": "#%% md\n"
    }
   },
   "source": [
    "## Plots results"
   ]
  },
  {
   "cell_type": "code",
   "execution_count": 12,
   "metadata": {
    "pycharm": {
     "name": "#%%\n"
    }
   },
   "outputs": [
    {
     "data": {
      "image/png": "[encoded data removed]",
      "text/plain": [
       "<Figure size 969.026x675.564 with 8 Axes>"
      ]
     },
     "metadata": {
      "needs_background": "light"
     },
     "output_type": "display_data"
    }
   ],
   "source": [
    "# df_interv_pca_results\n",
    "fig, axes = plt.subplots(4, 2, figsize=(14, 8), sharex=\"col\",\n",
    "                       gridspec_kw={\"hspace\": 0.075, \"wspace\": 0.05, \"top\": 0.9, \"bottom\":0.15,\n",
    "                                   \"height_ratios\": [11/42, 11/42, 11/42, 9/42]})\n",
    "\n",
    "intervention_order = [\"Normalcy\", '1st case', '1st death', 'School closure', 'Public events banned',\n",
    "                      'Mobility', 'Lockdown']\n",
    "\n",
    "axes = [axes[0, 1], axes[1 , 1], axes[2, 1], axes[3, 1], axes[0, 0], axes[1 ,0], axes[2, 0], axes[3, 0]]\n",
    "\n",
    "\n",
    "# plot_diffs_in_diffs(df_pageviews_results, codes_order, axes[0])\n",
    "\n",
    "plot_diffs_in_diffs_all(df_pca_results, codes_order, axes[0], helper_langs,mobile=False)\n",
    "plot_diffs_in_diffs_all(df_pca_norm_results, codes_order, axes[1], helper_langs, mobile=False)\n",
    "plot_diffs_in_diffs_all(df_pca_norm_results2, codes_order, axes[2], helper_langs, mobile=False)\n",
    "plot_diffs_in_diffs_interventions(df_interv_pca_results, intervention_order, axes[3])\n",
    "\n",
    "plot_diffs_in_diffs_all(df_pageviews_results, codes_order, axes[4], helper_langs, mobile=False)\n",
    "plot_diffs_in_diffs_all(df_pageviews_norm_results, codes_order, axes[5], helper_langs, mobile=False)\n",
    "plot_diffs_in_diffs_all(df_pageviews_norm_results2, codes_order, axes[6], helper_langs, mobile=False)\n",
    "plot_diffs_in_diffs_interventions(df_interv_pv_results, intervention_order, axes[7])\n",
    "\n",
    "\n",
    "for ax in axes[4:]:\n",
    "    ax.axvline(0, zorder=0, color=\"black\", ls=\"-\", alpha=0.3)\n",
    "\n",
    "    ax.set_xlim([-0.6, 0.6])\n",
    "    ax.set_xticks([-0.6, -0.3, 0, 0.3, 0.6])\n",
    "    ax.set_yticklabels([])\n",
    "    ax.yaxis.tick_right()\n",
    "\n",
    "\n",
    "for ax in axes[:4]:\n",
    "    ax.axvline(0, zorder=0, color=\"black\", ls=\"-\", alpha=0.3)\n",
    "    ax.set_xlim([-1.4, 1.4])\n",
    "    ax.set_xticks([-1.4, -0.7, 0, 0.7, 1.4])\n",
    "    ax.yaxis.tick_right()\n",
    "    ax.tick_params(axis='y', which='both', labelsize=11)\n",
    "\n",
    "axes[3].set_xlabel(\"Relative Increase ($\\log_e$)\", size=14)\n",
    "axes[7].set_xlabel(\"Relative Increase ($\\log_e$)\", size=14)\n",
    "\n",
    "\n",
    "axes[4].set_title('Pageviews', size=18)\n",
    "\n",
    "axes[0].set_title('Distance from Normality', size=16)\n",
    "# axes[2].set_title('(c) Pageview by Event', size=14)\n",
    "# axes[3].set_title('(d) Attention Shift by Event', size=14)\n",
    "\n",
    "import matplotlib\n",
    "lines = [\n",
    "    Line2D([0], [0], color=\"black\", lw=0, marker=\"x\"),\n",
    "\n",
    "]\n",
    "\n",
    "axes[4].legend(\n",
    "    handles=lines,\n",
    "    labels=[\"p $>$ 0.05\"],\n",
    "#     loc='upper center', bbox_to_anchor=(1, 1.35),\n",
    "    fancybox=True, shadow=False,\n",
    "    frameon=False, edgecolor=None, fontsize=12,\n",
    "    borderaxespad=0\n",
    ")\n",
    "vals = [\n",
    "    (-0.395, -0.30),\n",
    "    (-0.31, -0.10),\n",
    "    (-0.395, -0.10),\n",
    "]\n",
    "\n",
    "titles = [\n",
    "    '(a) Before mobility changepoint\\nvs.\\n After mobility changepoint',\n",
    "    '(b) After mobility changepoint\\nvs.\\n After return to baseline',\n",
    "    '(c) Before mobility changepoint \\nvs.\\n After return to baseline'\n",
    "]\n",
    "\n",
    "for val, tit, ax in zip(vals, titles, axes[4:7]):\n",
    "    ax.plot([-0.15, -0.15], [.2, .5], clip_on=False, transform=ax.transAxes, color=\"gray\")\n",
    "    ax.text(-0.15, 0.515, \"normality\",  transform=ax.transAxes, color=\"gray\",  ha=\"center\", va=\"bottom\")\n",
    "    ax.plot([-0.35, -0.35], [.2, .5], clip_on=False, transform=ax.transAxes, color=\"gray\")\n",
    "    ax.text(-0.35, 0.515, \"mobility\",  transform=ax.transAxes, color=\"gray\",  ha=\"center\", va=\"bottom\")\n",
    "\n",
    "    ax.text(val[0], 0.35, \"pre\",  transform=ax.transAxes, color=\"gray\",  ha=\"center\", va=\"center\", zorder=10,\n",
    "                     bbox={'facecolor':'white','alpha':1,'edgecolor':'tab:orange','pad':3})\n",
    "    ax.text(val[1], 0.35, \"post\",  transform=ax.transAxes, color=\"gray\",  ha=\"center\", va=\"center\", zorder=10,\n",
    "           bbox={'facecolor':'white','alpha':1,'edgecolor':'tab:purple','pad':3})\n",
    "    \n",
    "    ax.plot([-0.05, -0.05, -0.45, -0.45, -0.05], [.1, .65, .65, .1, .1], \n",
    "            clip_on=False, transform=ax.transAxes, color=\"black\", \n",
    "            lw=0.5, ls=\":\")\n",
    "    ax.text(-0.25, 0.7, tit, transform=ax.transAxes, size=12, ha=\"center\", va=\"bottom\")\n",
    "\n",
    "ax = axes[7]\n",
    "\n",
    "ax.text(-.295, 0.35, \"pre \",  transform=ax.transAxes, color=\"gray\",  ha=\"center\", va=\"center\", zorder=10,\n",
    "                 bbox={'facecolor':'white','alpha':1,'edgecolor':'tab:orange','pad':3})\n",
    "ax.text(-.20, 0.35, \"post\",  transform=ax.transAxes, color=\"gray\",  ha=\"center\", va=\"center\", zorder=10,\n",
    "       bbox={'facecolor':'white','alpha':1,'edgecolor':'tab:purple','pad':3})\n",
    "ax.text(-0.25, 0.515, \"event\",  transform=ax.transAxes, color=\"gray\",  ha=\"center\", va=\"bottom\")\n",
    "ax.plot([-0.25, -0.25], [.2, .5], clip_on=False, transform=ax.transAxes, color=\"gray\")\n",
    "ax.plot([-0.05, -0.05, -0.45, -0.45, -0.05], [.1, .65, .65, .1, .1], \n",
    "        clip_on=False, transform=ax.transAxes, color=\"black\", \n",
    "        lw=0.5, ls=\":\")\n",
    "\n",
    "ax.text(-0.25, 0.7, '(d) Before vs. after event', transform=ax.transAxes, size=12, ha=\"center\", va=\"bottom\")\n",
    "\n",
    "set_size(fig, (14, 8))\n",
    "fig.savefig(\"../images/diffs_in_diffs_all.pdf\", bbox_inches=\"tight\")"
   ]
  },
  {
   "cell_type": "markdown",
   "metadata": {},
   "source": [
    "--- "
   ]
  }
 ],
 "metadata": {
  "kernelspec": {
   "display_name": "py38",
   "language": "python",
   "name": "py38"
  },
  "language_info": {
   "codemirror_mode": {
    "name": "ipython",
    "version": 3
   },
   "file_extension": ".py",
   "mimetype": "text/x-python",
   "name": "python",
   "nbconvert_exporter": "python",
   "pygments_lexer": "ipython3",
   "version": "3.8.5"
  },
  "pycharm": {
   "stem_cell": {
    "cell_type": "raw",
    "metadata": {
     "collapsed": false
    },
    "source": []
   }
  }
 },
 "nbformat": 4,
 "nbformat_minor": 1
}
