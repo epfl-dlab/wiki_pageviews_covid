{
 "cells": [
  {
   "cell_type": "code",
   "execution_count": 1,
   "metadata": {
    "pycharm": {
     "name": "#%%\n"
    }
   },
   "outputs": [],
   "source": [
    "%load_ext autoreload\n",
    "%autoreload 2"
   ]
  },
  {
   "cell_type": "code",
   "execution_count": 2,
   "metadata": {
    "pycharm": {
     "name": "#%%\n"
    }
   },
   "outputs": [],
   "source": [
    "from dateutil.relativedelta import relativedelta\n",
    "import statsmodels.formula.api as smf\n",
    "import pandas as pd\n",
    "import numpy as np\n",
    "import statsmodels\n",
    "import datetime"
   ]
  },
  {
   "cell_type": "code",
   "execution_count": 3,
   "metadata": {
    "pycharm": {
     "name": "#%%\n"
    }
   },
   "outputs": [],
   "source": [
    "import sys\n",
    "import os.path\n",
    "# Local Modules\n",
    "from helpers.load import load_interventions, load_aggregated, load_topics, load_pca\n",
    "from helpers.vars import codes, helper_langs\n",
    "from helpers.plot import set_size, plot_diffs_in_diffs_interventions, plot_diffs_in_diffs_all\n",
    "from helpers.diffs_n_diffs import get_diffs_in_diffs_result, get_df_pageviews, get_df_pca\n",
    "from helpers.diffs_n_diffs import interventions_df_pca, interventions_df_pageviews\n",
    "\n",
    "                "
   ]
  },
  {
   "cell_type": "code",
   "execution_count": 4,
   "metadata": {
    "pycharm": {
     "name": "#%%\n"
    }
   },
   "outputs": [],
   "source": [
    "# Latex Configuration\n",
    "import matplotlib.font_manager as font_manager\n",
    "from matplotlib.lines import Line2D\n",
    "import matplotlib.ticker as mtick\n",
    "import matplotlib.pyplot as plt\n",
    "import matplotlib as mpl\n",
    "import seaborn as sns\n",
    "import os\n",
    "# fontpath = os.path.expanduser('~/.local/share/fonts/LinLibertine_DRah.ttf')\n",
    "# prop = font_manager.FontProperties(fname=fontpath)\n",
    "\n",
    "params = {\n",
    "    \"axes.titlesize\" : 14,\n",
    "    'axes.labelsize': 12,\n",
    "    'font.size': 12,\n",
    "    'legend.fontsize': 12,\n",
    "    'xtick.labelsize': 12,\n",
    "    'ytick.labelsize': 12,\n",
    "    'font.family': 'Linux Libertine Display',\n",
    "    'text.usetex': True\n",
    "}\n",
    "\n",
    "mpl.rcParams.update(params)"
   ]
  },
  {
   "cell_type": "markdown",
   "metadata": {
    "pycharm": {
     "name": "#%% md\n"
    }
   },
   "source": [
    "## Loads data & helpers "
   ]
  },
  {
   "cell_type": "code",
   "execution_count": 5,
   "metadata": {
    "pycharm": {
     "name": "#%%\n"
    }
   },
   "outputs": [],
   "source": [
    "time_int = 35\n",
    "interventions = load_interventions(\"../data/interventions.csv\")\n",
    "topics_df, topics = load_topics('../data/topics_linked.csv.xz')\n",
    "agg = load_aggregated(\"../data/aggregated_timeseries.json.gz\")\n",
    "codes_order = [\"sr\", \"it\", \"fr\", \"en\", \"nl\", \"ko\", \"de\", \"fi\", \"ja\", \"no\", \"sv\", \"da\"]\n",
    "dfs_pca_shift = load_pca(codes_order, pca_folder=\"../data/pca/\")\n",
    "np.random.seed(17835415)"
   ]
  },
  {
   "cell_type": "markdown",
   "metadata": {
    "pycharm": {
     "name": "#%% md\n"
    }
   },
   "source": [
    "## Pageviews"
   ]
  },
  {
   "cell_type": "code",
   "execution_count": 6,
   "metadata": {
    "pycharm": {
     "name": "#%%\n"
    }
   },
   "outputs": [
    {
     "name": "stdout",
     "output_type": "stream",
     "text": [
      "[Timestamp('2020-02-10 00:00:00'), Timestamp('2020-03-16 00:00:00')]\n",
      "[Timestamp('2020-03-16 00:00:00'), Timestamp('2020-04-20 00:00:00')]\n",
      "R2: 0.9970142626921447\n",
      "[Timestamp('2020-03-16 00:00:00'), Timestamp('2020-04-20 00:00:00')]\n",
      "[Timestamp('2020-05-21 00:00:00'), Timestamp('2020-06-25 00:00:00')]\n",
      "R2: 0.9965137385179754\n",
      "[Timestamp('2020-02-10 00:00:00'), Timestamp('2020-03-16 00:00:00')]\n",
      "[Timestamp('2020-05-21 00:00:00'), Timestamp('2020-06-25 00:00:00')]\n",
      "R2: 0.9973573188009914\n"
     ]
    }
   ],
   "source": [
    "mobility = lambda x, delta: interventions[x.replace(\".m\", \"\")][\"Mobility\"] + delta\n",
    "normalcy = lambda x, delta: interventions[x.replace(\".m\", \"\")][\"Normalcy\"] + delta\n",
    "\n",
    "df_pageviews, df_pageviews_results = get_df_pageviews(agg, codes,\n",
    "                                                      mobility, relativedelta(days=0),\n",
    "                                                      mobility, relativedelta(days=0),\n",
    "                                                      time_int)\n",
    "\n",
    "df_pageviews_norm, df_pageviews_norm_results = get_df_pageviews(agg, codes,\n",
    "                                                                mobility, relativedelta(days=time_int), \n",
    "                                                                normalcy, relativedelta(days=0), \n",
    "                                                                time_int)\n",
    "\n",
    "df_pageviews_norm2, df_pageviews_norm_results2 = get_df_pageviews(agg, codes,\n",
    "                                                            mobility, relativedelta(days=0),\n",
    "                                                            normalcy, relativedelta(days=0),\n",
    "                                                            time_int)"
   ]
  },
  {
   "cell_type": "markdown",
   "metadata": {
    "pycharm": {
     "name": "#%% md\n"
    }
   },
   "source": [
    "## Attention Shift"
   ]
  },
  {
   "cell_type": "code",
   "execution_count": 7,
   "metadata": {
    "pycharm": {
     "name": "#%%\n"
    }
   },
   "outputs": [
    {
     "name": "stdout",
     "output_type": "stream",
     "text": [
      "de 2020-03-16 00:00:00\n",
      "fr 2020-03-16 00:00:00\n",
      "it 2020-03-11 00:00:00\n",
      "sr 2020-03-16 00:00:00\n",
      "no 2020-03-11 00:00:00\n",
      "ko 2020-02-25 00:00:00\n",
      "da 2020-03-11 00:00:00\n",
      "sv 2020-03-11 00:00:00\n",
      "ja 2020-03-31 00:00:00\n",
      "nl 2020-03-16 00:00:00\n",
      "fi 2020-03-16 00:00:00\n",
      "en 2020-03-16 00:00:00\n",
      "R2: 0.9387647308366688\n",
      "de 2020-03-16 00:00:00\n",
      "fr 2020-03-16 00:00:00\n",
      "it 2020-03-11 00:00:00\n",
      "sr 2020-03-16 00:00:00\n",
      "no 2020-03-11 00:00:00\n",
      "ko 2020-02-25 00:00:00\n",
      "da 2020-03-11 00:00:00\n",
      "sv 2020-03-11 00:00:00\n",
      "ja 2020-03-31 00:00:00\n",
      "nl 2020-03-16 00:00:00\n",
      "fi 2020-03-16 00:00:00\n",
      "en 2020-03-16 00:00:00\n",
      "R2: 0.932016419784808\n",
      "de 2020-03-16 00:00:00\n",
      "fr 2020-03-16 00:00:00\n",
      "it 2020-03-11 00:00:00\n",
      "sr 2020-03-16 00:00:00\n",
      "no 2020-03-11 00:00:00\n",
      "ko 2020-02-25 00:00:00\n",
      "da 2020-03-11 00:00:00\n",
      "sv 2020-03-11 00:00:00\n",
      "ja 2020-03-31 00:00:00\n",
      "nl 2020-03-16 00:00:00\n",
      "fi 2020-03-16 00:00:00\n",
      "en 2020-03-16 00:00:00\n",
      "R2: 0.9448196600426549\n"
     ]
    }
   ],
   "source": [
    "df_pca, df_pca_results = get_df_pca(dfs_pca_shift, codes, interventions,\n",
    "    mobility, relativedelta(days=0),\n",
    "    mobility, relativedelta(days=0),\n",
    "    time_int)\n",
    "\n",
    "df_pca_norm, df_pca_norm_results = get_df_pca(dfs_pca_shift, codes, interventions,\n",
    "    mobility, relativedelta(days=time_int), \n",
    "    normalcy, relativedelta(days=0), \n",
    "    time_int)\n",
    "\n",
    "\n",
    "df_pca_norm2, df_pca_norm_results2 = get_df_pca(dfs_pca_shift, codes, interventions,\n",
    "    mobility, relativedelta(days=0),\n",
    "    normalcy, relativedelta(days=0),\n",
    "    time_int)"
   ]
  },
  {
   "cell_type": "markdown",
   "metadata": {
    "pycharm": {
     "name": "#%% md\n"
    }
   },
   "source": [
    "## Impact of different interventions"
   ]
  },
  {
   "cell_type": "code",
   "execution_count": 8,
   "metadata": {},
   "outputs": [
    {
     "name": "stdout",
     "output_type": "stream",
     "text": [
      "1st case\n",
      "1st death\n",
      "School closure\n",
      "Public events banned\n",
      "Lockdown\n",
      "Mobility\n",
      "Normalcy\n"
     ]
    }
   ],
   "source": [
    "df_interv_pca_results = interventions_df_pca(dfs_pca_shift, codes, interventions, time_int)\n",
    "df_interv_pv_results = interventions_df_pageviews(agg, codes, interventions, time_int)"
   ]
  },
  {
   "cell_type": "markdown",
   "metadata": {
    "pycharm": {
     "name": "#%% md\n"
    }
   },
   "source": [
    "## Plots results"
   ]
  },
  {
   "cell_type": "code",
   "execution_count": 9,
   "metadata": {
    "pycharm": {
     "name": "#%%\n"
    }
   },
   "outputs": [
    {
     "data": {
      "image/png": "[encoded data removed]",
      "text/plain": [
       "<Figure size 973.077x581.461 with 8 Axes>"
      ]
     },
     "metadata": {
      "needs_background": "light"
     },
     "output_type": "display_data"
    }
   ],
   "source": [
    "# df_interv_pca_results\n",
    "fig, axes = plt.subplots(4, 2, figsize=(14, 7), sharex=\"col\",\n",
    "                       gridspec_kw={\"hspace\": 0.075, \"wspace\": 0.05, \"top\": 0.9, \"bottom\":0.15,\n",
    "                                   \"height_ratios\": [11/42, 11/42, 11/42, 9/42]})\n",
    "\n",
    "intervention_order = [\"Normalcy\", '1st case', '1st death', 'School closure', 'Public events banned',\n",
    "                      'Mobility', 'Lockdown']\n",
    "\n",
    "axes = [axes[0, 1], axes[1 , 1], axes[2, 1], axes[3, 1], axes[0, 0], axes[1 ,0], axes[2, 0], axes[3, 0]]\n",
    "\n",
    "\n",
    "# plot_diffs_in_diffs(df_pageviews_results, codes_order, axes[0])\n",
    "\n",
    "plot_diffs_in_diffs_all(df_pca_results, codes_order, axes[0], helper_langs,mobile=False)\n",
    "plot_diffs_in_diffs_all(df_pca_norm_results, codes_order, axes[1], helper_langs, mobile=False)\n",
    "plot_diffs_in_diffs_all(df_pca_norm_results2, codes_order, axes[2], helper_langs, mobile=False)\n",
    "plot_diffs_in_diffs_interventions(df_interv_pca_results, intervention_order, axes[3])\n",
    "\n",
    "plot_diffs_in_diffs_all(df_pageviews_results, codes_order, axes[4], helper_langs, mobile=False)\n",
    "plot_diffs_in_diffs_all(df_pageviews_norm_results, codes_order, axes[5], helper_langs, mobile=False)\n",
    "plot_diffs_in_diffs_all(df_pageviews_norm_results2, codes_order, axes[6], helper_langs, mobile=False)\n",
    "plot_diffs_in_diffs_interventions(df_interv_pv_results, intervention_order, axes[7])\n",
    "\n",
    "\n",
    "for ax in axes[4:]:\n",
    "    ax.axvline(0, zorder=0, color=\"black\", ls=\"-\", alpha=0.3)\n",
    "\n",
    "    ax.set_xlim([-0.6, 0.6])\n",
    "    ax.set_xticks([-0.6, -0.3, 0, 0.3, 0.6])\n",
    "    ax.set_yticklabels([])\n",
    "    ax.yaxis.tick_right()\n",
    "\n",
    "\n",
    "for ax in axes[:4]:\n",
    "    ax.axvline(0, zorder=0, color=\"black\", ls=\"-\", alpha=0.3)\n",
    "    ax.set_xlim([-1.4, 1.4])\n",
    "    ax.set_xticks([-1.4, -0.7, 0, 0.7, 1.4])\n",
    "    ax.yaxis.tick_right()\n",
    "    ax.tick_params(axis='y', which='both', labelsize=9)\n",
    "\n",
    "axes[3].set_xlabel(\"Relative Increase ($\\log_e$)\", size=14)\n",
    "axes[7].set_xlabel(\"Relative Increase ($\\log_e$)\", size=14)\n",
    "\n",
    "\n",
    "axes[4].set_title('Pageviews', size=18)\n",
    "\n",
    "axes[0].set_title('Distance from Normality', size=16)\n",
    "# axes[2].set_title('(c) Pageview by Event', size=14)\n",
    "# axes[3].set_title('(d) Attention Shift by Event', size=14)\n",
    "\n",
    "import matplotlib\n",
    "lines = [\n",
    "    Line2D([0], [0], color=\"black\", lw=0, marker=\"x\"),\n",
    "\n",
    "]\n",
    "\n",
    "axes[4].legend(\n",
    "    handles=lines,\n",
    "    labels=[\"p $>$ 0.05\"],\n",
    "#     loc='upper center', bbox_to_anchor=(1, 1.35),\n",
    "    fancybox=True, shadow=False,\n",
    "    frameon=False, edgecolor=None, fontsize=12,\n",
    "    borderaxespad=0\n",
    ")\n",
    "vals = [\n",
    "    (-0.395, -0.30),\n",
    "    (-0.31, -0.10),\n",
    "    (-0.395, -0.10),\n",
    "]\n",
    "\n",
    "titles = [\n",
    "    '(a) Before mobility changepoint\\nvs.\\n After mobility changepoint',\n",
    "    '(b) After mobility changepoint\\nvs.\\n After return to baseline',\n",
    "    '(c) Before mobility changepoint \\nvs.\\n After return to baseline'\n",
    "]\n",
    "\n",
    "for val, tit, ax in zip(vals, titles, axes[4:7]):\n",
    "    ax.plot([-0.15, -0.15], [.2, .5], clip_on=False, transform=ax.transAxes, color=\"gray\")\n",
    "    ax.text(-0.15, 0.515, \"normality\",  transform=ax.transAxes, color=\"gray\",  ha=\"center\", va=\"bottom\")\n",
    "    ax.plot([-0.35, -0.35], [.2, .5], clip_on=False, transform=ax.transAxes, color=\"gray\")\n",
    "    ax.text(-0.35, 0.515, \"mobility\",  transform=ax.transAxes, color=\"gray\",  ha=\"center\", va=\"bottom\")\n",
    "\n",
    "    ax.text(val[0], 0.35, \"pre\",  transform=ax.transAxes, color=\"gray\",  ha=\"center\", va=\"center\", zorder=10,\n",
    "                     bbox={'facecolor':'white','alpha':1,'edgecolor':'tab:orange','pad':3})\n",
    "    ax.text(val[1], 0.35, \"post\",  transform=ax.transAxes, color=\"gray\",  ha=\"center\", va=\"center\", zorder=10,\n",
    "           bbox={'facecolor':'white','alpha':1,'edgecolor':'tab:purple','pad':3})\n",
    "    \n",
    "    ax.plot([-0.05, -0.05, -0.45, -0.45, -0.05], [.1, .65, .65, .1, .1], \n",
    "            clip_on=False, transform=ax.transAxes, color=\"black\", \n",
    "            lw=0.5, ls=\":\")\n",
    "    ax.text(-0.25, 0.7, tit, transform=ax.transAxes, size=12, ha=\"center\", va=\"bottom\")\n",
    "\n",
    "ax = axes[7]\n",
    "\n",
    "ax.text(-.295, 0.35, \"pre \",  transform=ax.transAxes, color=\"gray\",  ha=\"center\", va=\"center\", zorder=10,\n",
    "                 bbox={'facecolor':'white','alpha':1,'edgecolor':'tab:orange','pad':3})\n",
    "ax.text(-.20, 0.35, \"post\",  transform=ax.transAxes, color=\"gray\",  ha=\"center\", va=\"center\", zorder=10,\n",
    "       bbox={'facecolor':'white','alpha':1,'edgecolor':'tab:purple','pad':3})\n",
    "ax.text(-0.25, 0.515, \"event\",  transform=ax.transAxes, color=\"gray\",  ha=\"center\", va=\"bottom\")\n",
    "ax.plot([-0.25, -0.25], [.2, .5], clip_on=False, transform=ax.transAxes, color=\"gray\")\n",
    "ax.plot([-0.05, -0.05, -0.45, -0.45, -0.05], [.1, .65, .65, .1, .1], \n",
    "        clip_on=False, transform=ax.transAxes, color=\"black\", \n",
    "        lw=0.5, ls=\":\")\n",
    "\n",
    "ax.text(-0.25, 0.7, '(d) Before vs. after event', transform=ax.transAxes, size=12, ha=\"center\", va=\"bottom\")\n",
    "\n",
    "set_size(fig, (14, 7))\n",
    "fig.savefig(\"../images/diffs_in_diffs_all.pdf\", bbox_inches=\"tight\")"
   ]
  },
  {
   "cell_type": "markdown",
   "metadata": {},
   "source": [
    "--- "
   ]
  }
 ],
 "metadata": {
  "kernelspec": {
   "display_name": "py38",
   "language": "python",
   "name": "py38"
  },
  "language_info": {
   "codemirror_mode": {
    "name": "ipython",
    "version": 3
   },
   "file_extension": ".py",
   "mimetype": "text/x-python",
   "name": "python",
   "nbconvert_exporter": "python",
   "pygments_lexer": "ipython3",
   "version": "3.8.5"
  },
  "pycharm": {
   "stem_cell": {
    "cell_type": "raw",
    "metadata": {
     "collapsed": false
    },
    "source": []
   }
  }
 },
 "nbformat": 4,
 "nbformat_minor": 1
}
